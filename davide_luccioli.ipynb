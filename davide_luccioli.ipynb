{
  "cells": [
    {
      "cell_type": "markdown",
      "metadata": {
        "id": "bacEDFoO3XOz"
      },
      "source": [
        "#Deblurring di immagini mosse\n",
        "\n",
        "Il progetto riguarda il deblurirng di immagini. Il tipo di \"blur\" in questione è ottenuto mediante sovrapposizione di immagini leggermente traslate a partire dall'originale, lungo un tragitto randomico.\n",
        "\n",
        "Questo tipo di blur ntende simulare il risultato del tremolio della mano per riprese con tempo di esposizione prolungato.\n"
      ]
    },
    {
      "cell_type": "code",
      "execution_count": 1,
      "metadata": {
        "id": "tXq5YKgoyJdX"
      },
      "outputs": [],
      "source": [
        "from tensorflow.keras import layers\n",
        "from tensorflow.keras.models import Model\n",
        "from tensorflow.keras.datasets import mnist\n",
        "import tensorflow as tf\n",
        "import numpy as np\n",
        "import matplotlib.pyplot as plt"
      ]
    },
    {
      "cell_type": "markdown",
      "metadata": {
        "id": "VMXlh4Cz4_Vk"
      },
      "source": [
        "Lavoriamo da immagini ottenute a partire da MNIST."
      ]
    },
    {
      "cell_type": "code",
      "execution_count": 2,
      "metadata": {
        "colab": {
          "base_uri": "https://localhost:8080/"
        },
        "id": "Sb-6a1ZsyuC5",
        "outputId": "df2664a5-2440-4c65-bbed-42f8cef0aa56"
      },
      "outputs": [
        {
          "output_type": "stream",
          "name": "stdout",
          "text": [
            "Downloading data from https://storage.googleapis.com/tensorflow/tf-keras-datasets/mnist.npz\n",
            "11490434/11490434 [==============================] - 0s 0us/step\n"
          ]
        }
      ],
      "source": [
        "(x_train, y_train), (x_test, y_test) = mnist.load_data()\n",
        "x_train = (x_train/255.).astype(np.float32)\n",
        "x_test = (x_test/255.).astype(np.float32)"
      ]
    },
    {
      "cell_type": "markdown",
      "metadata": {
        "id": "z6c89m6z5J7N"
      },
      "source": [
        "Qui viene fornito il generatore che dovete utilizzare per il vostro progetto.\n",
        "Non modificate in numero di mosse (10), nè il range della traslazione.\n",
        "\n",
        "Siete liberi di modificare a piacimento la batchsize. Utilizzate x_train per il training e x_valid per la validazione."
      ]
    },
    {
      "cell_type": "code",
      "execution_count": 3,
      "metadata": {
        "id": "eMU4M2_Ty18E"
      },
      "outputs": [],
      "source": [
        "def generator(dataset,batchsize,moves=10):\n",
        "  while True:\n",
        "    rand = np.random.randint(dataset.shape[0],size=batchsize)\n",
        "    y_truth = dataset[rand]\n",
        "    blurred = np.copy(y_truth)\n",
        "    moving = tf.expand_dims(y_truth,axis=-1)\n",
        "\n",
        "    for i in range(moves):\n",
        "      #RandomTranslation requires a channel axis\n",
        "      moving = layers.RandomTranslation(0.07,0.07,fill_mode='constant',interpolation='bilinear')(moving)\n",
        "      blurred = blurred + tf.squeeze(moving)\n",
        "    blurred = blurred/(moves+1)\n",
        "    yield(blurred,y_truth)\n"
      ]
    },
    {
      "cell_type": "code",
      "execution_count": 4,
      "metadata": {
        "id": "yUHecGrg7y9n"
      },
      "outputs": [],
      "source": [
        "my_gen = generator(x_train,5)"
      ]
    },
    {
      "cell_type": "code",
      "execution_count": 5,
      "metadata": {
        "id": "2cg2crUI2a0W"
      },
      "outputs": [],
      "source": [
        "def plot(x,y):\n",
        "  no = x.shape[0]\n",
        "  print(no)\n",
        "  plt.figure(figsize=(2*no, 4))\n",
        "  for i in range(no):\n",
        "    # display original\n",
        "    ax = plt.subplot(2, no, i + 1)\n",
        "    plt.imshow(x[i])\n",
        "    plt.gray()\n",
        "    ax.get_xaxis().set_visible(False)\n",
        "    ax.get_yaxis().set_visible(False)\n",
        "\n",
        "    # display reconstruction\n",
        "    ax = plt.subplot(2, no, i + 1 + no)\n",
        "    plt.imshow(y[i])\n",
        "    plt.gray()\n",
        "    ax.get_xaxis().set_visible(False)\n",
        "    ax.get_yaxis().set_visible(False)\n",
        "  plt.show()"
      ]
    },
    {
      "cell_type": "markdown",
      "metadata": {
        "id": "lVt0nxCeEfVJ"
      },
      "source": [
        "Qui potete vedere alcuni esempi restituiti dal generatore\n",
        "Here we plot some examples. In the first row you see the blurred image, and in the second the original image, that is the ground truth that you are suppose to obtain through deblurring."
      ]
    },
    {
      "cell_type": "code",
      "execution_count": 6,
      "metadata": {
        "colab": {
          "base_uri": "https://localhost:8080/",
          "height": 356
        },
        "id": "6CtE9rzb78Hg",
        "outputId": "7cdd84e4-8952-4032-db49-a3d0dd61ebf7"
      },
      "outputs": [
        {
          "output_type": "stream",
          "name": "stdout",
          "text": [
            "5\n"
          ]
        },
        {
          "output_type": "display_data",
          "data": {
            "text/plain": [
              "<Figure size 1000x400 with 10 Axes>"
            ],
            "image/png": "[encoded data removed]"
          },
          "metadata": {}
        }
      ],
      "source": [
        "test_x,test_y = next(my_gen)\n",
        "plot(test_x,test_y)"
      ]
    },
    {
      "cell_type": "markdown",
      "metadata": {
        "id": "uKWES0y5zYJd"
      },
      "source": [
        "# Valutazione\n",
        "\n",
        "Utilizzate Mean Squared Error (mse) per valutare l'errore tra l'immagine deblurred e la ground truth.\n",
        "\n",
        "Misurate l' mse su 10000 immagini blurred ottenute dal validation set.\n",
        "\n",
        "Ripetete la computazione precedente per 10 volte, e fornite come risutato la\n",
        "**media dei 10 round, unitamente alla deviazione standard**.\n"
      ]
    },
    {
      "cell_type": "markdown",
      "metadata": {
        "id": "01Wj8Kx0We5S"
      },
      "source": [
        "# Cosa consegnare\n",
        "Il lavoro deve essere scolto in keras/tensorflow. Consegnate un singolo notebook dove dovete conservare traccia del training.\n",
        "\n",
        "Discutete e motivate l'architettura finale, cosi come la scelta dei principali iperparametri."
      ]
    },
    {
      "cell_type": "markdown",
      "metadata": {
        "id": "uOebSB-sT0C3"
      },
      "source": [
        "# Costruzione Modello\n",
        "Nel processo di sviluppo del modello sono state valutate le prestazioni di diverse architetture neurali, tra cui, in versioni semplificate, modelli convoluzionali tradizionali e autoencoder. La scelta finale è ricaduta sull'architettura U-net, essendo risultata più efficace nel ricostruire le immagini sfocate rispetto ad altri modelli tesati; questa decisione è inoltre stata guidata dall'ampio utilizzo delle U-net per task simili in letteratura, seppur con l'applicazione di tecniche più sofisticate di quella usata nel modello finale.\n",
        "\n",
        "Particolare attenzione è stata data alla scelta della profondità della rete e alla configurazione dei filtri convoluzionali, cercando di bilanciare la performance del modello con la sua complessità.\n",
        "\n",
        "L'impiego di molteplici layer convoluzionali in ciascun livello ha permesso una cattura più efficace delle caratteristiche delle immagini, mentre l'introduzione della batch normalization ha contribuito a velocizzare il processo di apprendimento, stabilizzando il gradiente e migliorando la convergenza del modello. Queste scelte sono state guidate dai risultati ottenuti durante i test."
      ]
    },
    {
      "cell_type": "code",
      "execution_count": 7,
      "metadata": {
        "id": "zuKI6L2vXrxR"
      },
      "outputs": [],
      "source": [
        "from keras.layers import Input, Conv2D, MaxPooling2D, UpSampling2D, concatenate\n",
        "\n",
        "#Blocco di downsamplig della U-net\n",
        "def down_block(input, filters, activation, kernel_size=(3, 3), pool_size=(2, 2)):\n",
        "  conv = Conv2D(filters, kernel_size, activation=activation, padding='same')(input)\n",
        "  conv = Conv2D(filters, kernel_size, activation=activation, padding='same')(conv)\n",
        "  conv = layers.BatchNormalization()(conv)\n",
        "  pool = MaxPooling2D(pool_size=pool_size)(conv)\n",
        "\n",
        "  return conv, pool\n",
        "\n",
        "#Blocco di upsampling della U-net\n",
        "def up_block(input, skip, filters, activation, kernel_size=(3, 3), up_size=(2, 2)):\n",
        "  up = UpSampling2D(size=up_size)(input)\n",
        "  cat = concatenate([up, skip], axis=-1)\n",
        "  conv = Conv2D(filters, (3, 3), activation=activation, padding='same')(cat)\n",
        "  conv = Conv2D(filters, (3, 3), activation=activation, padding='same')(conv)\n",
        "  conv = layers.BatchNormalization()(conv)\n",
        "\n",
        "  return conv\n",
        "\n",
        "def unet_model(input_shape, activation):\n",
        "  input_img = Input(shape=input_shape)\n",
        "\n",
        "  conv1, pool1 = down_block(input_img, 64, activation)\n",
        "\n",
        "  conv2, pool2 = down_block(pool1, 128, activation)\n",
        "\n",
        "  conv3, pool3 = down_block(pool2, 256, activation, pool_size=(7, 7))\n",
        "\n",
        "  bottleneck = Conv2D(512, (3, 3), activation=activation, padding='same')(pool3)\n",
        "  bottleneck = Conv2D(512, (3, 3), activation=activation, padding='same')(bottleneck)\n",
        "  bottleneck = layers.BatchNormalization()(bottleneck)\n",
        "\n",
        "  conv4 = up_block(bottleneck, conv3, 256, activation, up_size=(7, 7))\n",
        "\n",
        "  conv5 = up_block(conv4, conv2, 128, activation)\n",
        "\n",
        "  conv6 = up_block(conv5, conv1, 64, activation)\n",
        "\n",
        "  output = Conv2D(1, (3, 3), activation='sigmoid', padding='same')(conv6)\n",
        "  output = layers.Reshape((28, 28))(output)\n",
        "\n",
        "  model = Model(inputs=input_img, outputs=output)\n",
        "  return model\n"
      ]
    },
    {
      "cell_type": "markdown",
      "metadata": {
        "id": "GGGoKrNy5Bnd"
      },
      "source": [
        "Determinare la funzione di attivazione più adatta per i layer convoluzionali del modello è stato un passo fondamentale. La funzione ReLu è stata scelta in modo sperimentale, confrontandone i risultati ottenuti nella valutazione finale con quelli dati da altre funzioni, quali tanh, ELU, swish e Leaky ReLU."
      ]
    },
    {
      "cell_type": "code",
      "execution_count": 8,
      "metadata": {
        "id": "r9ckw9EA49QE"
      },
      "outputs": [],
      "source": [
        "#aggiungi il numero di canali alla shape dell'immagine\n",
        "input_shape = x_train.shape[1:] + (1,)\n",
        "\n",
        "unet = unet_model(input_shape, 'relu')"
      ]
    },
    {
      "cell_type": "markdown",
      "metadata": {
        "id": "blNKruN5CSwb"
      },
      "source": [
        "Il modello è compilato con l'ottimizzatore Adam utilizzando i parametri di default. Per la funzione di loss, viene utilizzato il Mean Squared Error (MSE) come indicato nella consegna del progetto."
      ]
    },
    {
      "cell_type": "code",
      "execution_count": 9,
      "metadata": {
        "colab": {
          "base_uri": "https://localhost:8080/"
        },
        "id": "G-Vtc1KpZ0Su",
        "outputId": "cc985ce0-e865-408f-b789-064dc82ac896"
      },
      "outputs": [
        {
          "output_type": "stream",
          "name": "stdout",
          "text": [
            "Model: \"model\"\n",
            "__________________________________________________________________________________________________\n",
            " Layer (type)                Output Shape                 Param #   Connected to                  \n",
            "==================================================================================================\n",
            " input_1 (InputLayer)        [(None, 28, 28, 1)]          0         []                            \n",
            "                                                                                                  \n",
            " conv2d (Conv2D)             (None, 28, 28, 64)           640       ['input_1[0][0]']             \n",
            "                                                                                                  \n",
            " conv2d_1 (Conv2D)           (None, 28, 28, 64)           36928     ['conv2d[0][0]']              \n",
            "                                                                                                  \n",
            " batch_normalization (Batch  (None, 28, 28, 64)           256       ['conv2d_1[0][0]']            \n",
            " Normalization)                                                                                   \n",
            "                                                                                                  \n",
            " max_pooling2d (MaxPooling2  (None, 14, 14, 64)           0         ['batch_normalization[0][0]'] \n",
            " D)                                                                                               \n",
            "                                                                                                  \n",
            " conv2d_2 (Conv2D)           (None, 14, 14, 128)          73856     ['max_pooling2d[0][0]']       \n",
            "                                                                                                  \n",
            " conv2d_3 (Conv2D)           (None, 14, 14, 128)          147584    ['conv2d_2[0][0]']            \n",
            "                                                                                                  \n",
            " batch_normalization_1 (Bat  (None, 14, 14, 128)          512       ['conv2d_3[0][0]']            \n",
            " chNormalization)                                                                                 \n",
            "                                                                                                  \n",
            " max_pooling2d_1 (MaxPoolin  (None, 7, 7, 128)            0         ['batch_normalization_1[0][0]'\n",
            " g2D)                                                               ]                             \n",
            "                                                                                                  \n",
            " conv2d_4 (Conv2D)           (None, 7, 7, 256)            295168    ['max_pooling2d_1[0][0]']     \n",
            "                                                                                                  \n",
            " conv2d_5 (Conv2D)           (None, 7, 7, 256)            590080    ['conv2d_4[0][0]']            \n",
            "                                                                                                  \n",
            " batch_normalization_2 (Bat  (None, 7, 7, 256)            1024      ['conv2d_5[0][0]']            \n",
            " chNormalization)                                                                                 \n",
            "                                                                                                  \n",
            " max_pooling2d_2 (MaxPoolin  (None, 1, 1, 256)            0         ['batch_normalization_2[0][0]'\n",
            " g2D)                                                               ]                             \n",
            "                                                                                                  \n",
            " conv2d_6 (Conv2D)           (None, 1, 1, 512)            1180160   ['max_pooling2d_2[0][0]']     \n",
            "                                                                                                  \n",
            " conv2d_7 (Conv2D)           (None, 1, 1, 512)            2359808   ['conv2d_6[0][0]']            \n",
            "                                                                                                  \n",
            " batch_normalization_3 (Bat  (None, 1, 1, 512)            2048      ['conv2d_7[0][0]']            \n",
            " chNormalization)                                                                                 \n",
            "                                                                                                  \n",
            " up_sampling2d (UpSampling2  (None, 7, 7, 512)            0         ['batch_normalization_3[0][0]'\n",
            " D)                                                                 ]                             \n",
            "                                                                                                  \n",
            " concatenate (Concatenate)   (None, 7, 7, 768)            0         ['up_sampling2d[0][0]',       \n",
            "                                                                     'batch_normalization_2[0][0]'\n",
            "                                                                    ]                             \n",
            "                                                                                                  \n",
            " conv2d_8 (Conv2D)           (None, 7, 7, 256)            1769728   ['concatenate[0][0]']         \n",
            "                                                                                                  \n",
            " conv2d_9 (Conv2D)           (None, 7, 7, 256)            590080    ['conv2d_8[0][0]']            \n",
            "                                                                                                  \n",
            " batch_normalization_4 (Bat  (None, 7, 7, 256)            1024      ['conv2d_9[0][0]']            \n",
            " chNormalization)                                                                                 \n",
            "                                                                                                  \n",
            " up_sampling2d_1 (UpSamplin  (None, 14, 14, 256)          0         ['batch_normalization_4[0][0]'\n",
            " g2D)                                                               ]                             \n",
            "                                                                                                  \n",
            " concatenate_1 (Concatenate  (None, 14, 14, 384)          0         ['up_sampling2d_1[0][0]',     \n",
            " )                                                                   'batch_normalization_1[0][0]'\n",
            "                                                                    ]                             \n",
            "                                                                                                  \n",
            " conv2d_10 (Conv2D)          (None, 14, 14, 128)          442496    ['concatenate_1[0][0]']       \n",
            "                                                                                                  \n",
            " conv2d_11 (Conv2D)          (None, 14, 14, 128)          147584    ['conv2d_10[0][0]']           \n",
            "                                                                                                  \n",
            " batch_normalization_5 (Bat  (None, 14, 14, 128)          512       ['conv2d_11[0][0]']           \n",
            " chNormalization)                                                                                 \n",
            "                                                                                                  \n",
            " up_sampling2d_2 (UpSamplin  (None, 28, 28, 128)          0         ['batch_normalization_5[0][0]'\n",
            " g2D)                                                               ]                             \n",
            "                                                                                                  \n",
            " concatenate_2 (Concatenate  (None, 28, 28, 192)          0         ['up_sampling2d_2[0][0]',     \n",
            " )                                                                   'batch_normalization[0][0]'] \n",
            "                                                                                                  \n",
            " conv2d_12 (Conv2D)          (None, 28, 28, 64)           110656    ['concatenate_2[0][0]']       \n",
            "                                                                                                  \n",
            " conv2d_13 (Conv2D)          (None, 28, 28, 64)           36928     ['conv2d_12[0][0]']           \n",
            "                                                                                                  \n",
            " batch_normalization_6 (Bat  (None, 28, 28, 64)           256       ['conv2d_13[0][0]']           \n",
            " chNormalization)                                                                                 \n",
            "                                                                                                  \n",
            " conv2d_14 (Conv2D)          (None, 28, 28, 1)            577       ['batch_normalization_6[0][0]'\n",
            "                                                                    ]                             \n",
            "                                                                                                  \n",
            " reshape (Reshape)           (None, 28, 28)               0         ['conv2d_14[0][0]']           \n",
            "                                                                                                  \n",
            "==================================================================================================\n",
            "Total params: 7787905 (29.71 MB)\n",
            "Trainable params: 7785089 (29.70 MB)\n",
            "Non-trainable params: 2816 (11.00 KB)\n",
            "__________________________________________________________________________________________________\n"
          ]
        }
      ],
      "source": [
        "from keras.optimizers import Adam\n",
        "\n",
        "unet.compile(optimizer=Adam(), loss='mse')\n",
        "\n",
        "unet.summary()"
      ]
    },
    {
      "cell_type": "markdown",
      "metadata": {
        "id": "ZDB4j4ExbPwm"
      },
      "source": [
        "# Allenamento\n",
        "Durante la prima fase di allenamento del modello viene utilizzata una batch size relativamente alta cercando di bilanciare la velocità di apprendimento con la stabilità dell'addestramento, questo ha consentito di aumentare il numero di epoche, permettendo così al modello di passare attraverso più iterazioni di apprendimento. Il parametro steps_per_epoch è calcolato in modo da garantire che il modello veda un numero di immagini pari alla dimensione dell'intero set di dati in ogni epoca, riducendo la possibilità di andare in\n",
        "overfitting."
      ]
    },
    {
      "cell_type": "code",
      "execution_count": 10,
      "metadata": {
        "colab": {
          "base_uri": "https://localhost:8080/"
        },
        "id": "XAjVMQoPaT9w",
        "outputId": "ac96aeff-bcd8-4a35-8dc1-a8a0c0c22f18"
      },
      "outputs": [
        {
          "output_type": "stream",
          "name": "stdout",
          "text": [
            "Epoch 1/20\n",
            "234/234 [==============================] - 86s 262ms/step - loss: 0.0232\n",
            "Epoch 2/20\n",
            "234/234 [==============================] - 61s 262ms/step - loss: 0.0081\n",
            "Epoch 3/20\n",
            "234/234 [==============================] - 61s 261ms/step - loss: 0.0052\n",
            "Epoch 4/20\n",
            "234/234 [==============================] - 61s 262ms/step - loss: 0.0044\n",
            "Epoch 5/20\n",
            "234/234 [==============================] - 61s 263ms/step - loss: 0.0038\n",
            "Epoch 6/20\n",
            "234/234 [==============================] - 61s 262ms/step - loss: 0.0035\n",
            "Epoch 7/20\n",
            "234/234 [==============================] - 61s 262ms/step - loss: 0.0032\n",
            "Epoch 8/20\n",
            "234/234 [==============================] - 61s 260ms/step - loss: 0.0030\n",
            "Epoch 9/20\n",
            "234/234 [==============================] - 61s 261ms/step - loss: 0.0029\n",
            "Epoch 10/20\n",
            "234/234 [==============================] - 61s 262ms/step - loss: 0.0027\n",
            "Epoch 11/20\n",
            "234/234 [==============================] - 61s 262ms/step - loss: 0.0027\n",
            "Epoch 12/20\n",
            "234/234 [==============================] - 61s 260ms/step - loss: 0.0025\n",
            "Epoch 13/20\n",
            "234/234 [==============================] - 61s 262ms/step - loss: 0.0025\n",
            "Epoch 14/20\n",
            "234/234 [==============================] - 61s 262ms/step - loss: 0.0024\n",
            "Epoch 15/20\n",
            "234/234 [==============================] - 62s 263ms/step - loss: 0.0024\n",
            "Epoch 16/20\n",
            "234/234 [==============================] - 61s 263ms/step - loss: 0.0022\n",
            "Epoch 17/20\n",
            "234/234 [==============================] - 61s 261ms/step - loss: 0.0022\n",
            "Epoch 18/20\n",
            "234/234 [==============================] - 61s 261ms/step - loss: 0.0022\n",
            "Epoch 19/20\n",
            "234/234 [==============================] - 61s 261ms/step - loss: 0.0021\n",
            "Epoch 20/20\n",
            "234/234 [==============================] - 61s 261ms/step - loss: 0.0020\n"
          ]
        }
      ],
      "source": [
        "batch_size = 256\n",
        "\n",
        "train_gen = generator(x_train, batch_size)\n",
        "\n",
        "steps_per_epoch = len(x_train) // batch_size\n",
        "\n",
        "history = unet.fit(\n",
        "    train_gen,\n",
        "    steps_per_epoch=steps_per_epoch,\n",
        "    epochs=20\n",
        ")"
      ]
    },
    {
      "cell_type": "markdown",
      "metadata": {
        "id": "JatzYkaWu09T"
      },
      "source": [
        "Avendo osservato una riduzione della loss meno marcata nelle ultime epoche della fase precedente di allenamento, si è cercato di affinare ulteriormente le prestazioni del modello riducendo il learning rate e diminuendo la batch size. Questi cambiamenti hanno permesso di eseguire aggiustamenti più precisi nei pesi del modello, aumentando la probabilità di localizzare un minimo più ottimale nella funzione di loss."
      ]
    },
    {
      "cell_type": "code",
      "execution_count": 11,
      "metadata": {
        "colab": {
          "base_uri": "https://localhost:8080/"
        },
        "id": "J7YvubjmiixD",
        "outputId": "fe50ebaf-3b95-4a47-8f41-98ddd7da0d85"
      },
      "outputs": [
        {
          "output_type": "stream",
          "name": "stdout",
          "text": [
            "Epoch 1/5\n",
            "937/937 [==============================] - 172s 174ms/step - loss: 0.0019\n",
            "Epoch 2/5\n",
            "937/937 [==============================] - 162s 173ms/step - loss: 0.0018\n",
            "Epoch 3/5\n",
            "937/937 [==============================] - 162s 173ms/step - loss: 0.0018\n",
            "Epoch 4/5\n",
            "937/937 [==============================] - 165s 177ms/step - loss: 0.0018\n",
            "Epoch 5/5\n",
            "937/937 [==============================] - 163s 174ms/step - loss: 0.0017\n"
          ]
        }
      ],
      "source": [
        "unet.compile(optimizer=Adam(learning_rate=0.0001), loss='mse')\n",
        "\n",
        "batch_size = 64\n",
        "\n",
        "train_gen = generator(x_train, batch_size)\n",
        "\n",
        "steps_per_epoch = len(x_train) // batch_size\n",
        "\n",
        "history = unet.fit(\n",
        "    train_gen,\n",
        "    steps_per_epoch=steps_per_epoch,\n",
        "    epochs= 5\n",
        ")\n"
      ]
    },
    {
      "cell_type": "code",
      "execution_count": 15,
      "metadata": {
        "id": "LvA79QeR_DtS"
      },
      "outputs": [],
      "source": [
        "def compare_images(x_test, num_img, model):\n",
        "  test_gen = generator(x_test, num_img)\n",
        "  blurred_images, original_images = next(test_gen)\n",
        "\n",
        "  deblurred_images = model.predict(blurred_images)\n",
        "\n",
        "  plt.figure(figsize=(2*num_img, 6))\n",
        "\n",
        "  for i in range(num_img):\n",
        "    # Display original images\n",
        "    ax = plt.subplot(3, num_img, i + 1)\n",
        "    plt.imshow(original_images[i])\n",
        "    plt.gray()\n",
        "    ax.get_xaxis().set_visible(False)\n",
        "    ax.get_yaxis().set_visible(False)\n",
        "    if i == 0:\n",
        "      ax.set_title(\"Originali\")\n",
        "\n",
        "    # Display blurred images\n",
        "    ax = plt.subplot(3, num_img, i + 1 + num_img)\n",
        "    plt.imshow(blurred_images[i])\n",
        "    plt.gray()\n",
        "    ax.get_xaxis().set_visible(False)\n",
        "    ax.get_yaxis().set_visible(False)\n",
        "    if i == 0:\n",
        "      ax.set_title(\"Sfocate\")\n",
        "\n",
        "    # Display deblurred images\n",
        "    ax = plt.subplot(3, num_img, i + 1 + 2 * num_img)\n",
        "    plt.imshow(deblurred_images[i])\n",
        "    plt.gray()\n",
        "    ax.get_xaxis().set_visible(False)\n",
        "    ax.get_yaxis().set_visible(False)\n",
        "    if i == 0:\n",
        "      ax.set_title(\"Ricostruite\")\n",
        "\n",
        "  plt.show()\n"
      ]
    },
    {
      "cell_type": "markdown",
      "metadata": {
        "id": "uClM6j9DCdtY"
      },
      "source": [
        "Definisco una funzione per valutare il nostro modello di deblurring delle immagini. Questa funzione calcola l'errore quadratico medio (MSE) tra le immagini originali e quelle deblurred predette dal modello. Utilizziamo un generatore per creare un set di immagini sfocate dal test set: per ogni round di valutazione, generiamo 1000 immagini sfocate e calcoliamo l'MSE, ripetiamo questo processo per 10 round e poi calcoliamo la media e la deviazione standard dei punteggi MSE."
      ]
    },
    {
      "cell_type": "code",
      "execution_count": 16,
      "metadata": {
        "id": "Bc8dd5lcX15f"
      },
      "outputs": [],
      "source": [
        "from keras.losses import MeanSquaredError\n",
        "\n",
        "def evaluation(x_test, model):\n",
        "  mse_scores = []\n",
        "  for _ in range(10):\n",
        "      test_gen = generator(x_test, 10000)\n",
        "      blurred_images, original_images = next(test_gen)\n",
        "      deblurred_images = model.predict(blurred_images)\n",
        "      mse = MeanSquaredError()\n",
        "      mse_scores.append(mse(original_images, deblurred_images).numpy())\n",
        "\n",
        "  print(\"Average MSE:\", np.mean(mse_scores))\n",
        "  print(\"Standard deviation:\", np.std(mse_scores))"
      ]
    },
    {
      "cell_type": "markdown",
      "metadata": {
        "id": "0wwYrjfD2bPh"
      },
      "source": [
        "Il modello viene valutato su immagini prese dal test set di MNIST. Dopo la valutazione vengono mostrate 5 immagini prese dal test set per permettere un paragone visivo tra le immagini originali, quelle sfocate e quelle ricostruite dalla rete."
      ]
    },
    {
      "cell_type": "code",
      "execution_count": 18,
      "metadata": {
        "colab": {
          "base_uri": "https://localhost:8080/",
          "height": 751
        },
        "id": "WctcFssJaYQv",
        "outputId": "7b10f8da-db9a-48d2-ba66-c8e89ca4202d"
      },
      "outputs": [
        {
          "output_type": "stream",
          "name": "stdout",
          "text": [
            "313/313 [==============================] - 3s 8ms/step\n",
            "313/313 [==============================] - 2s 8ms/step\n",
            "313/313 [==============================] - 2s 8ms/step\n",
            "313/313 [==============================] - 3s 8ms/step\n",
            "313/313 [==============================] - 2s 8ms/step\n",
            "313/313 [==============================] - 2s 8ms/step\n",
            "313/313 [==============================] - 3s 8ms/step\n",
            "313/313 [==============================] - 3s 8ms/step\n",
            "313/313 [==============================] - 3s 9ms/step\n",
            "313/313 [==============================] - 4s 13ms/step\n",
            "Average MSE: 0.0016238171\n",
            "Standard deviation: 2.3168157e-05\n",
            "1/1 [==============================] - 0s 18ms/step\n"
          ]
        },
        {
          "output_type": "display_data",
          "data": {
            "text/plain": [
              "<Figure size 1000x600 with 15 Axes>"
            ],
            "image/png": "[encoded data removed]"
          },
          "metadata": {}
        }
      ],
      "source": [
        "evaluation(x_test, unet)\n",
        "compare_images(x_test, 5, unet)"
      ]
    }
  ],
  "metadata": {
    "accelerator": "GPU",
    "colab": {
      "gpuType": "T4",
      "provenance": []
    },
    "kernelspec": {
      "display_name": "Python 3",
      "name": "python3"
    },
    "language_info": {
      "codemirror_mode": {
        "name": "ipython",
        "version": 3
      },
      "file_extension": ".py",
      "mimetype": "text/x-python",
      "name": "python",
      "nbconvert_exporter": "python",
      "pygments_lexer": "ipython3",
      "version": "3.11.4"
    }
  },
  "nbformat": 4,
  "nbformat_minor": 0
}